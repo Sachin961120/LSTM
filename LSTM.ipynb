{
  "nbformat": 4,
  "nbformat_minor": 0,
  "metadata": {
    "accelerator": "GPU",
    "colab": {
      "name": "LSTM.ipynb",
      "provenance": [],
      "collapsed_sections": [],
      "authorship_tag": "ABX9TyNMyu2BS/EERt+ADsr43Qti",
      "include_colab_link": true
    },
    "kernelspec": {
      "display_name": "Python 3",
      "name": "python3"
    },
    "language_info": {
      "name": "python"
    }
  },
  "cells": [
    {
      "cell_type": "markdown",
      "metadata": {
        "id": "view-in-github",
        "colab_type": "text"
      },
      "source": [
        "<a href=\"https://colab.research.google.com/github/Sachin961120/LSTM/blob/main/LSTM.ipynb\" target=\"_parent\"><img src=\"https://colab.research.google.com/assets/colab-badge.svg\" alt=\"Open In Colab\"/></a>"
      ]
    },
    {
      "cell_type": "markdown",
      "metadata": {
        "id": "gebo92Bny8mq"
      },
      "source": [
        "# Univariate Time Series"
      ]
    },
    {
      "cell_type": "code",
      "metadata": {
        "colab": {
          "base_uri": "https://localhost:8080/"
        },
        "id": "KK5fKXuVi3uz",
        "outputId": "38cd3036-33d1-48bf-bd8f-f522519b6fa6"
      },
      "source": [
        "from google.colab import drive\n",
        "drive.mount('/gdrive')"
      ],
      "execution_count": 1,
      "outputs": [
        {
          "output_type": "stream",
          "text": [
            "Mounted at /gdrive\n"
          ],
          "name": "stdout"
        }
      ]
    },
    {
      "cell_type": "code",
      "metadata": {
        "colab": {
          "base_uri": "https://localhost:8080/"
        },
        "id": "tumL4HINjDhq",
        "outputId": "58c6b73b-f754-457b-86ff-40f045a3e8db"
      },
      "source": [
        "ls"
      ],
      "execution_count": 2,
      "outputs": [
        {
          "output_type": "stream",
          "text": [
            "\u001b[0m\u001b[01;34msample_data\u001b[0m/\n"
          ],
          "name": "stdout"
        }
      ]
    },
    {
      "cell_type": "code",
      "metadata": {
        "colab": {
          "base_uri": "https://localhost:8080/"
        },
        "id": "ermFBPXqjZHS",
        "outputId": "4ee35fe5-0315-483a-cd32-3f5877a81620"
      },
      "source": [
        "cd/gdrive"
      ],
      "execution_count": 3,
      "outputs": [
        {
          "output_type": "stream",
          "text": [
            "/gdrive\n"
          ],
          "name": "stdout"
        }
      ]
    },
    {
      "cell_type": "code",
      "metadata": {
        "colab": {
          "base_uri": "https://localhost:8080/"
        },
        "id": "kiTlPwgijfrC",
        "outputId": "27de1765-2023-42b7-d30b-594d1ea0943e"
      },
      "source": [
        "ls"
      ],
      "execution_count": 4,
      "outputs": [
        {
          "output_type": "stream",
          "text": [
            "\u001b[0m\u001b[01;34mMyDrive\u001b[0m/\n"
          ],
          "name": "stdout"
        }
      ]
    },
    {
      "cell_type": "code",
      "metadata": {
        "colab": {
          "base_uri": "https://localhost:8080/"
        },
        "id": "pp47Tj2NjiWf",
        "outputId": "094ed8af-32d5-48d6-d5f6-e2cb3fe30adf"
      },
      "source": [
        "cd MyDrive/DL/Download Data/"
      ],
      "execution_count": 5,
      "outputs": [
        {
          "output_type": "stream",
          "text": [
            "/gdrive/MyDrive/DL/Download Data\n"
          ],
          "name": "stdout"
        }
      ]
    },
    {
      "cell_type": "code",
      "metadata": {
        "id": "kmGHYmpAk-3g"
      },
      "source": [
        "import pandas as pd\n",
        "import numpy as np\n",
        "import math\n",
        "import seaborn as sns\n",
        "import matplotlib.pyplot as plt\n",
        "from tensorflow.keras.models import Sequential\n",
        "from tensorflow.keras.layers import LSTM\n",
        "from tensorflow.keras.layers import Dense, Activation, Embedding, Dropout\n",
        "from sklearn.preprocessing import StandardScaler, MinMaxScaler\n",
        "from sklearn.metrics import mean_absolute_error"
      ],
      "execution_count": 6,
      "outputs": []
    },
    {
      "cell_type": "code",
      "metadata": {
        "id": "hVS4BAw8lz_5"
      },
      "source": [
        "data=pd.read_csv('international-airline-passengers.csv')"
      ],
      "execution_count": 7,
      "outputs": []
    },
    {
      "cell_type": "code",
      "metadata": {
        "colab": {
          "base_uri": "https://localhost:8080/",
          "height": 203
        },
        "id": "CFNFr3XembMB",
        "outputId": "5e5554fb-7632-4f3d-8205-8411702309da"
      },
      "source": [
        "data.head()"
      ],
      "execution_count": 8,
      "outputs": [
        {
          "output_type": "execute_result",
          "data": {
            "text/html": [
              "<div>\n",
              "<style scoped>\n",
              "    .dataframe tbody tr th:only-of-type {\n",
              "        vertical-align: middle;\n",
              "    }\n",
              "\n",
              "    .dataframe tbody tr th {\n",
              "        vertical-align: top;\n",
              "    }\n",
              "\n",
              "    .dataframe thead th {\n",
              "        text-align: right;\n",
              "    }\n",
              "</style>\n",
              "<table border=\"1\" class=\"dataframe\">\n",
              "  <thead>\n",
              "    <tr style=\"text-align: right;\">\n",
              "      <th></th>\n",
              "      <th>Month</th>\n",
              "      <th>passengers_in_100_thousands</th>\n",
              "    </tr>\n",
              "  </thead>\n",
              "  <tbody>\n",
              "    <tr>\n",
              "      <th>0</th>\n",
              "      <td>1949-01</td>\n",
              "      <td>112</td>\n",
              "    </tr>\n",
              "    <tr>\n",
              "      <th>1</th>\n",
              "      <td>1949-02</td>\n",
              "      <td>118</td>\n",
              "    </tr>\n",
              "    <tr>\n",
              "      <th>2</th>\n",
              "      <td>1949-03</td>\n",
              "      <td>132</td>\n",
              "    </tr>\n",
              "    <tr>\n",
              "      <th>3</th>\n",
              "      <td>1949-04</td>\n",
              "      <td>129</td>\n",
              "    </tr>\n",
              "    <tr>\n",
              "      <th>4</th>\n",
              "      <td>1949-05</td>\n",
              "      <td>121</td>\n",
              "    </tr>\n",
              "  </tbody>\n",
              "</table>\n",
              "</div>"
            ],
            "text/plain": [
              "     Month  passengers_in_100_thousands\n",
              "0  1949-01                          112\n",
              "1  1949-02                          118\n",
              "2  1949-03                          132\n",
              "3  1949-04                          129\n",
              "4  1949-05                          121"
            ]
          },
          "metadata": {
            "tags": []
          },
          "execution_count": 8
        }
      ]
    },
    {
      "cell_type": "code",
      "metadata": {
        "colab": {
          "base_uri": "https://localhost:8080/",
          "height": 203
        },
        "id": "U7yiwHGUmdDP",
        "outputId": "0da06981-df22-414a-95c5-acb0bb2398dc"
      },
      "source": [
        "data.tail()"
      ],
      "execution_count": 9,
      "outputs": [
        {
          "output_type": "execute_result",
          "data": {
            "text/html": [
              "<div>\n",
              "<style scoped>\n",
              "    .dataframe tbody tr th:only-of-type {\n",
              "        vertical-align: middle;\n",
              "    }\n",
              "\n",
              "    .dataframe tbody tr th {\n",
              "        vertical-align: top;\n",
              "    }\n",
              "\n",
              "    .dataframe thead th {\n",
              "        text-align: right;\n",
              "    }\n",
              "</style>\n",
              "<table border=\"1\" class=\"dataframe\">\n",
              "  <thead>\n",
              "    <tr style=\"text-align: right;\">\n",
              "      <th></th>\n",
              "      <th>Month</th>\n",
              "      <th>passengers_in_100_thousands</th>\n",
              "    </tr>\n",
              "  </thead>\n",
              "  <tbody>\n",
              "    <tr>\n",
              "      <th>139</th>\n",
              "      <td>1960-08</td>\n",
              "      <td>606</td>\n",
              "    </tr>\n",
              "    <tr>\n",
              "      <th>140</th>\n",
              "      <td>1960-09</td>\n",
              "      <td>508</td>\n",
              "    </tr>\n",
              "    <tr>\n",
              "      <th>141</th>\n",
              "      <td>1960-10</td>\n",
              "      <td>461</td>\n",
              "    </tr>\n",
              "    <tr>\n",
              "      <th>142</th>\n",
              "      <td>1960-11</td>\n",
              "      <td>390</td>\n",
              "    </tr>\n",
              "    <tr>\n",
              "      <th>143</th>\n",
              "      <td>1960-12</td>\n",
              "      <td>432</td>\n",
              "    </tr>\n",
              "  </tbody>\n",
              "</table>\n",
              "</div>"
            ],
            "text/plain": [
              "       Month  passengers_in_100_thousands\n",
              "139  1960-08                          606\n",
              "140  1960-09                          508\n",
              "141  1960-10                          461\n",
              "142  1960-11                          390\n",
              "143  1960-12                          432"
            ]
          },
          "metadata": {
            "tags": []
          },
          "execution_count": 9
        }
      ]
    },
    {
      "cell_type": "code",
      "metadata": {
        "colab": {
          "base_uri": "https://localhost:8080/"
        },
        "id": "N5PzBb274Z6H",
        "outputId": "6c0c5f80-4216-41ae-a59f-2177703871f3"
      },
      "source": [
        "ts_data=data.iloc[:,1]\n",
        "ts_data.head()"
      ],
      "execution_count": 10,
      "outputs": [
        {
          "output_type": "execute_result",
          "data": {
            "text/plain": [
              "0    112\n",
              "1    118\n",
              "2    132\n",
              "3    129\n",
              "4    121\n",
              "Name: passengers_in_100_thousands, dtype: int64"
            ]
          },
          "metadata": {
            "tags": []
          },
          "execution_count": 10
        }
      ]
    },
    {
      "cell_type": "code",
      "metadata": {
        "colab": {
          "base_uri": "https://localhost:8080/",
          "height": 282
        },
        "id": "w3oKl9uh4hlM",
        "outputId": "7dbf0208-fa26-44d3-db18-c05b238a3f4c"
      },
      "source": [
        "plt.plot(ts_data)"
      ],
      "execution_count": 11,
      "outputs": [
        {
          "output_type": "execute_result",
          "data": {
            "text/plain": [
              "[<matplotlib.lines.Line2D at 0x7fd1f5b46410>]"
            ]
          },
          "metadata": {
            "tags": []
          },
          "execution_count": 11
        },
        {
          "output_type": "display_data",
          "data": {
            "image/png": "[encoded data removed]",
            "text/plain": [
              "<Figure size 432x288 with 1 Axes>"
            ]
          },
          "metadata": {
            "tags": [],
            "needs_background": "light"
          }
        }
      ]
    },
    {
      "cell_type": "code",
      "metadata": {
        "id": "_rARsbrF4sMT"
      },
      "source": [
        "scaler= MinMaxScaler(feature_range=(0,1))\n",
        "dataset= scaler.fit_transform(pd.DataFrame(ts_data)) "
      ],
      "execution_count": 12,
      "outputs": []
    },
    {
      "cell_type": "code",
      "metadata": {
        "id": "Ru4gtuyo5pNY"
      },
      "source": [
        "train_fraction=0.70\n",
        "train_size= int(len(dataset) * train_fraction)\n",
        "test_size= len(dataset) - train_size\n",
        "train, test= dataset[0:train_size,:], dataset[train_size:,:]"
      ],
      "execution_count": 13,
      "outputs": []
    },
    {
      "cell_type": "code",
      "metadata": {
        "colab": {
          "base_uri": "https://localhost:8080/"
        },
        "id": "14WC5JFc-974",
        "outputId": "cba9115e-eafb-48eb-838e-cb16f7cea005"
      },
      "source": [
        "train.shape , test.shape, dataset.shape"
      ],
      "execution_count": 14,
      "outputs": [
        {
          "output_type": "execute_result",
          "data": {
            "text/plain": [
              "((100, 1), (44, 1), (144, 1))"
            ]
          },
          "metadata": {
            "tags": []
          },
          "execution_count": 14
        }
      ]
    },
    {
      "cell_type": "code",
      "metadata": {
        "id": "-uNCjsdl---I"
      },
      "source": [
        "def create_dataset(dataset, window_size=1):\n",
        "  data_X, data_Y=[], []\n",
        "  for i in range (len(dataset) - window_size):\n",
        "    a=dataset[i:(i + window_size), 0]\n",
        "    data_X.append(a)\n",
        "    data_Y.append(dataset[i + window_size, 0])\n",
        "  return(np.array(data_X), np.array(data_Y))"
      ],
      "execution_count": 15,
      "outputs": []
    },
    {
      "cell_type": "code",
      "metadata": {
        "id": "2WbtpnumCpF6"
      },
      "source": [
        "window_size=10\n",
        "train_X, train_Y= create_dataset(train, window_size)\n",
        "test_X, test_Y= create_dataset(test, window_size)"
      ],
      "execution_count": 16,
      "outputs": []
    },
    {
      "cell_type": "code",
      "metadata": {
        "colab": {
          "base_uri": "https://localhost:8080/"
        },
        "id": "JXPkHMQXEQ7S",
        "outputId": "b0d4220a-cd70-4398-b6bf-f97b69015a87"
      },
      "source": [
        "train_X.shape"
      ],
      "execution_count": 17,
      "outputs": [
        {
          "output_type": "execute_result",
          "data": {
            "text/plain": [
              "(90, 10)"
            ]
          },
          "metadata": {
            "tags": []
          },
          "execution_count": 17
        }
      ]
    },
    {
      "cell_type": "code",
      "metadata": {
        "id": "RY5eSSo8HqLZ"
      },
      "source": [
        "train_X= np.reshape(train_X, (train_X.shape[0], train_X.shape[1], 1))\n",
        "test_X=  np.reshape(test_X, (test_X.shape[0], test_X.shape[1], 1))"
      ],
      "execution_count": 18,
      "outputs": []
    },
    {
      "cell_type": "code",
      "metadata": {
        "colab": {
          "base_uri": "https://localhost:8080/"
        },
        "id": "xyEGSdM9L_Is",
        "outputId": "969728ea-0f78-4d04-9c52-17deb7f378b1"
      },
      "source": [
        "train_X[0]"
      ],
      "execution_count": 19,
      "outputs": [
        {
          "output_type": "execute_result",
          "data": {
            "text/plain": [
              "array([[0.01544402],\n",
              "       [0.02702703],\n",
              "       [0.05405405],\n",
              "       [0.04826255],\n",
              "       [0.03281853],\n",
              "       [0.05984556],\n",
              "       [0.08494208],\n",
              "       [0.08494208],\n",
              "       [0.06177606],\n",
              "       [0.02895753]])"
            ]
          },
          "metadata": {
            "tags": []
          },
          "execution_count": 19
        }
      ]
    },
    {
      "cell_type": "code",
      "metadata": {
        "colab": {
          "base_uri": "https://localhost:8080/"
        },
        "id": "RFgN8s44MLC-",
        "outputId": "b61bec1a-23db-4582-eef4-870e0d415050"
      },
      "source": [
        "model= Sequential()\n",
        "\n",
        "model.add(LSTM(4, input_shape=(window_size, 1)))\n",
        "model.add(Dense(1))\n",
        "model.compile(loss='mean_squared_error', optimizer= 'adam')\n",
        "model.fit(train_X, train_Y,\n",
        "          epochs=100, batch_size=1, verbose=2, shuffle= False)"
      ],
      "execution_count": 20,
      "outputs": [
        {
          "output_type": "stream",
          "text": [
            "Epoch 1/100\n",
            "90/90 - 2s - loss: 0.0054\n",
            "Epoch 2/100\n",
            "90/90 - 0s - loss: 0.0148\n",
            "Epoch 3/100\n",
            "90/90 - 0s - loss: 0.0095\n",
            "Epoch 4/100\n",
            "90/90 - 0s - loss: 0.0069\n",
            "Epoch 5/100\n",
            "90/90 - 0s - loss: 0.0056\n",
            "Epoch 6/100\n",
            "90/90 - 0s - loss: 0.0050\n",
            "Epoch 7/100\n",
            "90/90 - 0s - loss: 0.0047\n",
            "Epoch 8/100\n",
            "90/90 - 0s - loss: 0.0045\n",
            "Epoch 9/100\n",
            "90/90 - 0s - loss: 0.0044\n",
            "Epoch 10/100\n",
            "90/90 - 0s - loss: 0.0044\n",
            "Epoch 11/100\n",
            "90/90 - 0s - loss: 0.0043\n",
            "Epoch 12/100\n",
            "90/90 - 0s - loss: 0.0043\n",
            "Epoch 13/100\n",
            "90/90 - 0s - loss: 0.0043\n",
            "Epoch 14/100\n",
            "90/90 - 0s - loss: 0.0042\n",
            "Epoch 15/100\n",
            "90/90 - 0s - loss: 0.0042\n",
            "Epoch 16/100\n",
            "90/90 - 0s - loss: 0.0042\n",
            "Epoch 17/100\n",
            "90/90 - 0s - loss: 0.0041\n",
            "Epoch 18/100\n",
            "90/90 - 0s - loss: 0.0041\n",
            "Epoch 19/100\n",
            "90/90 - 0s - loss: 0.0041\n",
            "Epoch 20/100\n",
            "90/90 - 0s - loss: 0.0040\n",
            "Epoch 21/100\n",
            "90/90 - 0s - loss: 0.0040\n",
            "Epoch 22/100\n",
            "90/90 - 0s - loss: 0.0040\n",
            "Epoch 23/100\n",
            "90/90 - 0s - loss: 0.0040\n",
            "Epoch 24/100\n",
            "90/90 - 0s - loss: 0.0039\n",
            "Epoch 25/100\n",
            "90/90 - 0s - loss: 0.0039\n",
            "Epoch 26/100\n",
            "90/90 - 0s - loss: 0.0039\n",
            "Epoch 27/100\n",
            "90/90 - 0s - loss: 0.0038\n",
            "Epoch 28/100\n",
            "90/90 - 0s - loss: 0.0038\n",
            "Epoch 29/100\n",
            "90/90 - 0s - loss: 0.0038\n",
            "Epoch 30/100\n",
            "90/90 - 0s - loss: 0.0038\n",
            "Epoch 31/100\n",
            "90/90 - 0s - loss: 0.0037\n",
            "Epoch 32/100\n",
            "90/90 - 0s - loss: 0.0037\n",
            "Epoch 33/100\n",
            "90/90 - 0s - loss: 0.0037\n",
            "Epoch 34/100\n",
            "90/90 - 0s - loss: 0.0036\n",
            "Epoch 35/100\n",
            "90/90 - 0s - loss: 0.0036\n",
            "Epoch 36/100\n",
            "90/90 - 0s - loss: 0.0036\n",
            "Epoch 37/100\n",
            "90/90 - 0s - loss: 0.0036\n",
            "Epoch 38/100\n",
            "90/90 - 0s - loss: 0.0035\n",
            "Epoch 39/100\n",
            "90/90 - 0s - loss: 0.0035\n",
            "Epoch 40/100\n",
            "90/90 - 0s - loss: 0.0035\n",
            "Epoch 41/100\n",
            "90/90 - 0s - loss: 0.0034\n",
            "Epoch 42/100\n",
            "90/90 - 0s - loss: 0.0034\n",
            "Epoch 43/100\n",
            "90/90 - 0s - loss: 0.0034\n",
            "Epoch 44/100\n",
            "90/90 - 0s - loss: 0.0034\n",
            "Epoch 45/100\n",
            "90/90 - 0s - loss: 0.0033\n",
            "Epoch 46/100\n",
            "90/90 - 0s - loss: 0.0033\n",
            "Epoch 47/100\n",
            "90/90 - 0s - loss: 0.0033\n",
            "Epoch 48/100\n",
            "90/90 - 0s - loss: 0.0032\n",
            "Epoch 49/100\n",
            "90/90 - 0s - loss: 0.0032\n",
            "Epoch 50/100\n",
            "90/90 - 0s - loss: 0.0032\n",
            "Epoch 51/100\n",
            "90/90 - 0s - loss: 0.0032\n",
            "Epoch 52/100\n",
            "90/90 - 0s - loss: 0.0031\n",
            "Epoch 53/100\n",
            "90/90 - 0s - loss: 0.0031\n",
            "Epoch 54/100\n",
            "90/90 - 0s - loss: 0.0031\n",
            "Epoch 55/100\n",
            "90/90 - 0s - loss: 0.0031\n",
            "Epoch 56/100\n",
            "90/90 - 0s - loss: 0.0030\n",
            "Epoch 57/100\n",
            "90/90 - 0s - loss: 0.0030\n",
            "Epoch 58/100\n",
            "90/90 - 0s - loss: 0.0030\n",
            "Epoch 59/100\n",
            "90/90 - 0s - loss: 0.0030\n",
            "Epoch 60/100\n",
            "90/90 - 0s - loss: 0.0029\n",
            "Epoch 61/100\n",
            "90/90 - 0s - loss: 0.0029\n",
            "Epoch 62/100\n",
            "90/90 - 0s - loss: 0.0029\n",
            "Epoch 63/100\n",
            "90/90 - 0s - loss: 0.0029\n",
            "Epoch 64/100\n",
            "90/90 - 0s - loss: 0.0029\n",
            "Epoch 65/100\n",
            "90/90 - 0s - loss: 0.0028\n",
            "Epoch 66/100\n",
            "90/90 - 0s - loss: 0.0028\n",
            "Epoch 67/100\n",
            "90/90 - 0s - loss: 0.0028\n",
            "Epoch 68/100\n",
            "90/90 - 0s - loss: 0.0028\n",
            "Epoch 69/100\n",
            "90/90 - 0s - loss: 0.0028\n",
            "Epoch 70/100\n",
            "90/90 - 0s - loss: 0.0027\n",
            "Epoch 71/100\n",
            "90/90 - 0s - loss: 0.0027\n",
            "Epoch 72/100\n",
            "90/90 - 0s - loss: 0.0027\n",
            "Epoch 73/100\n",
            "90/90 - 0s - loss: 0.0027\n",
            "Epoch 74/100\n",
            "90/90 - 0s - loss: 0.0027\n",
            "Epoch 75/100\n",
            "90/90 - 0s - loss: 0.0027\n",
            "Epoch 76/100\n",
            "90/90 - 0s - loss: 0.0026\n",
            "Epoch 77/100\n",
            "90/90 - 0s - loss: 0.0026\n",
            "Epoch 78/100\n",
            "90/90 - 0s - loss: 0.0026\n",
            "Epoch 79/100\n",
            "90/90 - 0s - loss: 0.0026\n",
            "Epoch 80/100\n",
            "90/90 - 0s - loss: 0.0026\n",
            "Epoch 81/100\n",
            "90/90 - 0s - loss: 0.0026\n",
            "Epoch 82/100\n",
            "90/90 - 0s - loss: 0.0025\n",
            "Epoch 83/100\n",
            "90/90 - 0s - loss: 0.0025\n",
            "Epoch 84/100\n",
            "90/90 - 0s - loss: 0.0025\n",
            "Epoch 85/100\n",
            "90/90 - 0s - loss: 0.0025\n",
            "Epoch 86/100\n",
            "90/90 - 0s - loss: 0.0025\n",
            "Epoch 87/100\n",
            "90/90 - 0s - loss: 0.0025\n",
            "Epoch 88/100\n",
            "90/90 - 0s - loss: 0.0025\n",
            "Epoch 89/100\n",
            "90/90 - 0s - loss: 0.0025\n",
            "Epoch 90/100\n",
            "90/90 - 0s - loss: 0.0024\n",
            "Epoch 91/100\n",
            "90/90 - 0s - loss: 0.0024\n",
            "Epoch 92/100\n",
            "90/90 - 0s - loss: 0.0024\n",
            "Epoch 93/100\n",
            "90/90 - 0s - loss: 0.0024\n",
            "Epoch 94/100\n",
            "90/90 - 0s - loss: 0.0024\n",
            "Epoch 95/100\n",
            "90/90 - 0s - loss: 0.0024\n",
            "Epoch 96/100\n",
            "90/90 - 0s - loss: 0.0024\n",
            "Epoch 97/100\n",
            "90/90 - 0s - loss: 0.0024\n",
            "Epoch 98/100\n",
            "90/90 - 0s - loss: 0.0024\n",
            "Epoch 99/100\n",
            "90/90 - 0s - loss: 0.0024\n",
            "Epoch 100/100\n",
            "90/90 - 0s - loss: 0.0023\n"
          ],
          "name": "stdout"
        },
        {
          "output_type": "execute_result",
          "data": {
            "text/plain": [
              "<tensorflow.python.keras.callbacks.History at 0x7fd1f149ae10>"
            ]
          },
          "metadata": {
            "tags": []
          },
          "execution_count": 20
        }
      ]
    },
    {
      "cell_type": "code",
      "metadata": {
        "id": "v0Efa5cS70Kq"
      },
      "source": [
        "#make predictions on the original scale of the data\n",
        "pred=scaler.inverse_transform(model.predict(train_X))\n",
        "#prepare Y DATA to also be on th original scale  for interpretability\n",
        "orig_data= scaler.inverse_transform([train_Y])\n",
        "# calculate RMSE\n",
        "score_train= mean_absolute_error(orig_data[0], pred[:, 0])"
      ],
      "execution_count": 21,
      "outputs": []
    },
    {
      "cell_type": "code",
      "metadata": {
        "colab": {
          "base_uri": "https://localhost:8080/"
        },
        "id": "Nc7FyU3jE2mN",
        "outputId": "ce2c9529-0ea4-4172-e111-f17ec4ddcdd4"
      },
      "source": [
        "score_train"
      ],
      "execution_count": 22,
      "outputs": [
        {
          "output_type": "execute_result",
          "data": {
            "text/plain": [
              "20.081812625461154"
            ]
          },
          "metadata": {
            "tags": []
          },
          "execution_count": 22
        }
      ]
    },
    {
      "cell_type": "code",
      "metadata": {
        "id": "nIE-ur6IHQOR"
      },
      "source": [
        "#make predictions on the original scale of the data\n",
        "pred=scaler.inverse_transform(model.predict(test_X))\n",
        "#prepare Y DATA to also be on th original scale  for interpretability\n",
        "orig_data= scaler.inverse_transform([test_Y])\n",
        "# calculate RMSE\n",
        "score_test= mean_absolute_error(orig_data[0], pred[:, 0])"
      ],
      "execution_count": 23,
      "outputs": []
    },
    {
      "cell_type": "code",
      "metadata": {
        "colab": {
          "base_uri": "https://localhost:8080/"
        },
        "id": "HcScrB3UHqjc",
        "outputId": "b2725428-7d4c-4ac0-cf07-f4cde3c06914"
      },
      "source": [
        "score_test"
      ],
      "execution_count": 24,
      "outputs": [
        {
          "output_type": "execute_result",
          "data": {
            "text/plain": [
              "44.28515535242417"
            ]
          },
          "metadata": {
            "tags": []
          },
          "execution_count": 24
        }
      ]
    },
    {
      "cell_type": "code",
      "metadata": {
        "id": "enJyHCJOHsPe"
      },
      "source": [
        "original_data= np.concatenate([scaler.inverse_transform([train_Y])[0], scaler.inverse_transform([test_Y])[0]])\n",
        "fitted=  np.concatenate([scaler.inverse_transform(model.predict(train_X))[:, 0], scaler.inverse_transform(model.predict(test_X))[:, 0]])"
      ],
      "execution_count": 25,
      "outputs": []
    },
    {
      "cell_type": "code",
      "metadata": {
        "id": "ZoUJ0b3kJH6O"
      },
      "source": [
        "d= pd.DataFrame({'Original': original_data, 'fitted': fitted, 'index': range(len(original_data))})"
      ],
      "execution_count": 26,
      "outputs": []
    },
    {
      "cell_type": "code",
      "metadata": {
        "colab": {
          "base_uri": "https://localhost:8080/",
          "height": 296
        },
        "id": "OOLiMjixJ77G",
        "outputId": "96cafd02-5563-4515-a18d-28f6a6b3d540"
      },
      "source": [
        "sns.lineplot(data=d, x='index', y='Original')\n",
        "sns.lineplot(data=d, x='index', y='fitted')"
      ],
      "execution_count": 27,
      "outputs": [
        {
          "output_type": "execute_result",
          "data": {
            "text/plain": [
              "<matplotlib.axes._subplots.AxesSubplot at 0x7fd1f0bd5510>"
            ]
          },
          "metadata": {
            "tags": []
          },
          "execution_count": 27
        },
        {
          "output_type": "display_data",
          "data": {
            "image/png": "[encoded data removed]",
            "text/plain": [
              "<Figure size 432x288 with 1 Axes>"
            ]
          },
          "metadata": {
            "tags": [],
            "needs_background": "light"
          }
        }
      ]
    },
    {
      "cell_type": "code",
      "metadata": {
        "id": "0bHcDw78yOaC"
      },
      "source": [
        ""
      ],
      "execution_count": null,
      "outputs": []
    },
    {
      "cell_type": "markdown",
      "metadata": {
        "id": "EW6F19rSySc6"
      },
      "source": [
        "## **Multiple Time Series**"
      ]
    },
    {
      "cell_type": "code",
      "metadata": {
        "colab": {
          "base_uri": "https://localhost:8080/"
        },
        "id": "PCDE8f0egCJl",
        "outputId": "3113aad4-cb1e-4fec-d6d7-03ede524ab47"
      },
      "source": [
        "ls"
      ],
      "execution_count": 28,
      "outputs": [
        {
          "output_type": "stream",
          "text": [
            " Action_codes.csv                          fashion_mnist.zip\n",
            " action_log.csv                            international-airline-passengers.csv\n",
            " all_stocks_2006-01-01_to_2018-01-01.csv   mnist_data.zip\n",
            " cat_dog_sub.zip                           Pokemon.xls\n",
            " \u001b[0m\u001b[01;34mComplete-Deep-Learning-master\u001b[0m/           \u001b[01;34m'sentiment labelled sentences'\u001b[0m/\n",
            " Complete-Deep-Learning-master.zip         Subscribers.csv\n",
            "'default of credit card clients.xls'       TS_Xvars.csv\n",
            " \u001b[01;34mfashion_mnist\u001b[0m/\n"
          ],
          "name": "stdout"
        }
      ]
    },
    {
      "cell_type": "code",
      "metadata": {
        "colab": {
          "base_uri": "https://localhost:8080/"
        },
        "id": "ISshNUstu0SQ",
        "outputId": "3055fc9a-aaa0-4392-fc1f-bc7ff4588429"
      },
      "source": [
        "cd/gdrive"
      ],
      "execution_count": 29,
      "outputs": [
        {
          "output_type": "stream",
          "text": [
            "/gdrive\n"
          ],
          "name": "stdout"
        }
      ]
    },
    {
      "cell_type": "code",
      "metadata": {
        "colab": {
          "base_uri": "https://localhost:8080/"
        },
        "id": "7-nEEp7Bu8gx",
        "outputId": "09e1edb8-acf1-4a30-f326-567bc063853b"
      },
      "source": [
        "ls"
      ],
      "execution_count": 30,
      "outputs": [
        {
          "output_type": "stream",
          "text": [
            "\u001b[0m\u001b[01;34mMyDrive\u001b[0m/\n"
          ],
          "name": "stdout"
        }
      ]
    },
    {
      "cell_type": "code",
      "metadata": {
        "colab": {
          "base_uri": "https://localhost:8080/"
        },
        "id": "j0-ma3tRu-Do",
        "outputId": "23cabb04-f1f3-40c0-cd90-bf8f6078160a"
      },
      "source": [
        "cd MyDrive/DL/Download Data/"
      ],
      "execution_count": 31,
      "outputs": [
        {
          "output_type": "stream",
          "text": [
            "/gdrive/MyDrive/DL/Download Data\n"
          ],
          "name": "stdout"
        }
      ]
    },
    {
      "cell_type": "code",
      "metadata": {
        "id": "0bSMBM2gvCAr"
      },
      "source": [
        "data=pd.read_csv('all_stocks_2006-01-01_to_2018-01-01.csv')"
      ],
      "execution_count": 32,
      "outputs": []
    },
    {
      "cell_type": "code",
      "metadata": {
        "colab": {
          "base_uri": "https://localhost:8080/",
          "height": 203
        },
        "id": "w_yBLzAMwadg",
        "outputId": "02cf3956-bb6d-4e0d-caba-598c2b7d0535"
      },
      "source": [
        "data.head()"
      ],
      "execution_count": 33,
      "outputs": [
        {
          "output_type": "execute_result",
          "data": {
            "text/html": [
              "<div>\n",
              "<style scoped>\n",
              "    .dataframe tbody tr th:only-of-type {\n",
              "        vertical-align: middle;\n",
              "    }\n",
              "\n",
              "    .dataframe tbody tr th {\n",
              "        vertical-align: top;\n",
              "    }\n",
              "\n",
              "    .dataframe thead th {\n",
              "        text-align: right;\n",
              "    }\n",
              "</style>\n",
              "<table border=\"1\" class=\"dataframe\">\n",
              "  <thead>\n",
              "    <tr style=\"text-align: right;\">\n",
              "      <th></th>\n",
              "      <th>Date</th>\n",
              "      <th>Open</th>\n",
              "      <th>High</th>\n",
              "      <th>Low</th>\n",
              "      <th>Close</th>\n",
              "      <th>Volume</th>\n",
              "      <th>Name</th>\n",
              "    </tr>\n",
              "  </thead>\n",
              "  <tbody>\n",
              "    <tr>\n",
              "      <th>0</th>\n",
              "      <td>2006-01-03</td>\n",
              "      <td>77.76</td>\n",
              "      <td>79.35</td>\n",
              "      <td>77.24</td>\n",
              "      <td>79.11</td>\n",
              "      <td>3117200</td>\n",
              "      <td>MMM</td>\n",
              "    </tr>\n",
              "    <tr>\n",
              "      <th>1</th>\n",
              "      <td>2006-01-04</td>\n",
              "      <td>79.49</td>\n",
              "      <td>79.49</td>\n",
              "      <td>78.25</td>\n",
              "      <td>78.71</td>\n",
              "      <td>2558000</td>\n",
              "      <td>MMM</td>\n",
              "    </tr>\n",
              "    <tr>\n",
              "      <th>2</th>\n",
              "      <td>2006-01-05</td>\n",
              "      <td>78.41</td>\n",
              "      <td>78.65</td>\n",
              "      <td>77.56</td>\n",
              "      <td>77.99</td>\n",
              "      <td>2529500</td>\n",
              "      <td>MMM</td>\n",
              "    </tr>\n",
              "    <tr>\n",
              "      <th>3</th>\n",
              "      <td>2006-01-06</td>\n",
              "      <td>78.64</td>\n",
              "      <td>78.90</td>\n",
              "      <td>77.64</td>\n",
              "      <td>78.63</td>\n",
              "      <td>2479500</td>\n",
              "      <td>MMM</td>\n",
              "    </tr>\n",
              "    <tr>\n",
              "      <th>4</th>\n",
              "      <td>2006-01-09</td>\n",
              "      <td>78.50</td>\n",
              "      <td>79.83</td>\n",
              "      <td>78.46</td>\n",
              "      <td>79.02</td>\n",
              "      <td>1845600</td>\n",
              "      <td>MMM</td>\n",
              "    </tr>\n",
              "  </tbody>\n",
              "</table>\n",
              "</div>"
            ],
            "text/plain": [
              "         Date   Open   High    Low  Close   Volume Name\n",
              "0  2006-01-03  77.76  79.35  77.24  79.11  3117200  MMM\n",
              "1  2006-01-04  79.49  79.49  78.25  78.71  2558000  MMM\n",
              "2  2006-01-05  78.41  78.65  77.56  77.99  2529500  MMM\n",
              "3  2006-01-06  78.64  78.90  77.64  78.63  2479500  MMM\n",
              "4  2006-01-09  78.50  79.83  78.46  79.02  1845600  MMM"
            ]
          },
          "metadata": {
            "tags": []
          },
          "execution_count": 33
        }
      ]
    },
    {
      "cell_type": "code",
      "metadata": {
        "colab": {
          "base_uri": "https://localhost:8080/",
          "height": 203
        },
        "id": "MyInOm8n0U7I",
        "outputId": "0b637644-cd88-464b-d286-a2f22efa2102"
      },
      "source": [
        "data.tail()"
      ],
      "execution_count": 34,
      "outputs": [
        {
          "output_type": "execute_result",
          "data": {
            "text/html": [
              "<div>\n",
              "<style scoped>\n",
              "    .dataframe tbody tr th:only-of-type {\n",
              "        vertical-align: middle;\n",
              "    }\n",
              "\n",
              "    .dataframe tbody tr th {\n",
              "        vertical-align: top;\n",
              "    }\n",
              "\n",
              "    .dataframe thead th {\n",
              "        text-align: right;\n",
              "    }\n",
              "</style>\n",
              "<table border=\"1\" class=\"dataframe\">\n",
              "  <thead>\n",
              "    <tr style=\"text-align: right;\">\n",
              "      <th></th>\n",
              "      <th>Date</th>\n",
              "      <th>Open</th>\n",
              "      <th>High</th>\n",
              "      <th>Low</th>\n",
              "      <th>Close</th>\n",
              "      <th>Volume</th>\n",
              "      <th>Name</th>\n",
              "    </tr>\n",
              "  </thead>\n",
              "  <tbody>\n",
              "    <tr>\n",
              "      <th>93607</th>\n",
              "      <td>2017-12-22</td>\n",
              "      <td>71.42</td>\n",
              "      <td>71.87</td>\n",
              "      <td>71.22</td>\n",
              "      <td>71.58</td>\n",
              "      <td>10979165</td>\n",
              "      <td>AABA</td>\n",
              "    </tr>\n",
              "    <tr>\n",
              "      <th>93608</th>\n",
              "      <td>2017-12-26</td>\n",
              "      <td>70.94</td>\n",
              "      <td>71.39</td>\n",
              "      <td>69.63</td>\n",
              "      <td>69.86</td>\n",
              "      <td>8542802</td>\n",
              "      <td>AABA</td>\n",
              "    </tr>\n",
              "    <tr>\n",
              "      <th>93609</th>\n",
              "      <td>2017-12-27</td>\n",
              "      <td>69.77</td>\n",
              "      <td>70.49</td>\n",
              "      <td>69.69</td>\n",
              "      <td>70.06</td>\n",
              "      <td>6345124</td>\n",
              "      <td>AABA</td>\n",
              "    </tr>\n",
              "    <tr>\n",
              "      <th>93610</th>\n",
              "      <td>2017-12-28</td>\n",
              "      <td>70.12</td>\n",
              "      <td>70.32</td>\n",
              "      <td>69.51</td>\n",
              "      <td>69.82</td>\n",
              "      <td>7556877</td>\n",
              "      <td>AABA</td>\n",
              "    </tr>\n",
              "    <tr>\n",
              "      <th>93611</th>\n",
              "      <td>2017-12-29</td>\n",
              "      <td>69.79</td>\n",
              "      <td>70.13</td>\n",
              "      <td>69.43</td>\n",
              "      <td>69.85</td>\n",
              "      <td>6613070</td>\n",
              "      <td>AABA</td>\n",
              "    </tr>\n",
              "  </tbody>\n",
              "</table>\n",
              "</div>"
            ],
            "text/plain": [
              "             Date   Open   High    Low  Close    Volume  Name\n",
              "93607  2017-12-22  71.42  71.87  71.22  71.58  10979165  AABA\n",
              "93608  2017-12-26  70.94  71.39  69.63  69.86   8542802  AABA\n",
              "93609  2017-12-27  69.77  70.49  69.69  70.06   6345124  AABA\n",
              "93610  2017-12-28  70.12  70.32  69.51  69.82   7556877  AABA\n",
              "93611  2017-12-29  69.79  70.13  69.43  69.85   6613070  AABA"
            ]
          },
          "metadata": {
            "tags": []
          },
          "execution_count": 34
        }
      ]
    },
    {
      "cell_type": "code",
      "metadata": {
        "colab": {
          "base_uri": "https://localhost:8080/"
        },
        "id": "PCb8sB5w18pD",
        "outputId": "53deda8d-29a5-48df-88c3-ad94066e0d84"
      },
      "source": [
        "data['Name'].unique()"
      ],
      "execution_count": 35,
      "outputs": [
        {
          "output_type": "execute_result",
          "data": {
            "text/plain": [
              "array(['MMM', 'AXP', 'AAPL', 'BA', 'CAT', 'CVX', 'CSCO', 'KO', 'DIS',\n",
              "       'XOM', 'GE', 'GS', 'HD', 'IBM', 'INTC', 'JNJ', 'JPM', 'MCD', 'MRK',\n",
              "       'MSFT', 'NKE', 'PFE', 'PG', 'TRV', 'UTX', 'UNH', 'VZ', 'WMT',\n",
              "       'GOOGL', 'AMZN', 'AABA'], dtype=object)"
            ]
          },
          "metadata": {
            "tags": []
          },
          "execution_count": 35
        }
      ]
    },
    {
      "cell_type": "code",
      "metadata": {
        "colab": {
          "base_uri": "https://localhost:8080/",
          "height": 203
        },
        "id": "ECyn3gK90bg_",
        "outputId": "2c3ff65d-01f8-45be-c5b3-907a6132b460"
      },
      "source": [
        "data= data[['Date', 'Close', 'Name']]\n",
        "data.head()"
      ],
      "execution_count": 36,
      "outputs": [
        {
          "output_type": "execute_result",
          "data": {
            "text/html": [
              "<div>\n",
              "<style scoped>\n",
              "    .dataframe tbody tr th:only-of-type {\n",
              "        vertical-align: middle;\n",
              "    }\n",
              "\n",
              "    .dataframe tbody tr th {\n",
              "        vertical-align: top;\n",
              "    }\n",
              "\n",
              "    .dataframe thead th {\n",
              "        text-align: right;\n",
              "    }\n",
              "</style>\n",
              "<table border=\"1\" class=\"dataframe\">\n",
              "  <thead>\n",
              "    <tr style=\"text-align: right;\">\n",
              "      <th></th>\n",
              "      <th>Date</th>\n",
              "      <th>Close</th>\n",
              "      <th>Name</th>\n",
              "    </tr>\n",
              "  </thead>\n",
              "  <tbody>\n",
              "    <tr>\n",
              "      <th>0</th>\n",
              "      <td>2006-01-03</td>\n",
              "      <td>79.11</td>\n",
              "      <td>MMM</td>\n",
              "    </tr>\n",
              "    <tr>\n",
              "      <th>1</th>\n",
              "      <td>2006-01-04</td>\n",
              "      <td>78.71</td>\n",
              "      <td>MMM</td>\n",
              "    </tr>\n",
              "    <tr>\n",
              "      <th>2</th>\n",
              "      <td>2006-01-05</td>\n",
              "      <td>77.99</td>\n",
              "      <td>MMM</td>\n",
              "    </tr>\n",
              "    <tr>\n",
              "      <th>3</th>\n",
              "      <td>2006-01-06</td>\n",
              "      <td>78.63</td>\n",
              "      <td>MMM</td>\n",
              "    </tr>\n",
              "    <tr>\n",
              "      <th>4</th>\n",
              "      <td>2006-01-09</td>\n",
              "      <td>79.02</td>\n",
              "      <td>MMM</td>\n",
              "    </tr>\n",
              "  </tbody>\n",
              "</table>\n",
              "</div>"
            ],
            "text/plain": [
              "         Date  Close Name\n",
              "0  2006-01-03  79.11  MMM\n",
              "1  2006-01-04  78.71  MMM\n",
              "2  2006-01-05  77.99  MMM\n",
              "3  2006-01-06  78.63  MMM\n",
              "4  2006-01-09  79.02  MMM"
            ]
          },
          "metadata": {
            "tags": []
          },
          "execution_count": 36
        }
      ]
    },
    {
      "cell_type": "code",
      "metadata": {
        "colab": {
          "base_uri": "https://localhost:8080/",
          "height": 338
        },
        "id": "lGfNnIVv0t6J",
        "outputId": "f99cb6d9-ab16-4a7c-a07c-f3ea9ebbb98d"
      },
      "source": [
        " multi_ts= data.pivot_table(columns='Name', values='Close', index='Date')\n",
        " multi_ts.head()"
      ],
      "execution_count": 37,
      "outputs": [
        {
          "output_type": "execute_result",
          "data": {
            "text/html": [
              "<div>\n",
              "<style scoped>\n",
              "    .dataframe tbody tr th:only-of-type {\n",
              "        vertical-align: middle;\n",
              "    }\n",
              "\n",
              "    .dataframe tbody tr th {\n",
              "        vertical-align: top;\n",
              "    }\n",
              "\n",
              "    .dataframe thead th {\n",
              "        text-align: right;\n",
              "    }\n",
              "</style>\n",
              "<table border=\"1\" class=\"dataframe\">\n",
              "  <thead>\n",
              "    <tr style=\"text-align: right;\">\n",
              "      <th>Name</th>\n",
              "      <th>AABA</th>\n",
              "      <th>AAPL</th>\n",
              "      <th>AMZN</th>\n",
              "      <th>AXP</th>\n",
              "      <th>BA</th>\n",
              "      <th>CAT</th>\n",
              "      <th>CSCO</th>\n",
              "      <th>CVX</th>\n",
              "      <th>DIS</th>\n",
              "      <th>GE</th>\n",
              "      <th>GOOGL</th>\n",
              "      <th>GS</th>\n",
              "      <th>HD</th>\n",
              "      <th>IBM</th>\n",
              "      <th>INTC</th>\n",
              "      <th>JNJ</th>\n",
              "      <th>JPM</th>\n",
              "      <th>KO</th>\n",
              "      <th>MCD</th>\n",
              "      <th>MMM</th>\n",
              "      <th>MRK</th>\n",
              "      <th>MSFT</th>\n",
              "      <th>NKE</th>\n",
              "      <th>PFE</th>\n",
              "      <th>PG</th>\n",
              "      <th>TRV</th>\n",
              "      <th>UNH</th>\n",
              "      <th>UTX</th>\n",
              "      <th>VZ</th>\n",
              "      <th>WMT</th>\n",
              "      <th>XOM</th>\n",
              "    </tr>\n",
              "    <tr>\n",
              "      <th>Date</th>\n",
              "      <th></th>\n",
              "      <th></th>\n",
              "      <th></th>\n",
              "      <th></th>\n",
              "      <th></th>\n",
              "      <th></th>\n",
              "      <th></th>\n",
              "      <th></th>\n",
              "      <th></th>\n",
              "      <th></th>\n",
              "      <th></th>\n",
              "      <th></th>\n",
              "      <th></th>\n",
              "      <th></th>\n",
              "      <th></th>\n",
              "      <th></th>\n",
              "      <th></th>\n",
              "      <th></th>\n",
              "      <th></th>\n",
              "      <th></th>\n",
              "      <th></th>\n",
              "      <th></th>\n",
              "      <th></th>\n",
              "      <th></th>\n",
              "      <th></th>\n",
              "      <th></th>\n",
              "      <th></th>\n",
              "      <th></th>\n",
              "      <th></th>\n",
              "      <th></th>\n",
              "      <th></th>\n",
              "    </tr>\n",
              "  </thead>\n",
              "  <tbody>\n",
              "    <tr>\n",
              "      <th>2006-01-03</th>\n",
              "      <td>40.91</td>\n",
              "      <td>10.68</td>\n",
              "      <td>47.58</td>\n",
              "      <td>52.58</td>\n",
              "      <td>70.44</td>\n",
              "      <td>57.80</td>\n",
              "      <td>17.45</td>\n",
              "      <td>59.08</td>\n",
              "      <td>24.40</td>\n",
              "      <td>35.37</td>\n",
              "      <td>217.83</td>\n",
              "      <td>128.87</td>\n",
              "      <td>41.24</td>\n",
              "      <td>82.06</td>\n",
              "      <td>25.57</td>\n",
              "      <td>61.63</td>\n",
              "      <td>40.19</td>\n",
              "      <td>20.45</td>\n",
              "      <td>33.52</td>\n",
              "      <td>79.11</td>\n",
              "      <td>32.75</td>\n",
              "      <td>26.84</td>\n",
              "      <td>10.74</td>\n",
              "      <td>23.78</td>\n",
              "      <td>58.78</td>\n",
              "      <td>45.99</td>\n",
              "      <td>61.73</td>\n",
              "      <td>56.53</td>\n",
              "      <td>30.38</td>\n",
              "      <td>46.23</td>\n",
              "      <td>58.47</td>\n",
              "    </tr>\n",
              "    <tr>\n",
              "      <th>2006-01-04</th>\n",
              "      <td>40.97</td>\n",
              "      <td>10.71</td>\n",
              "      <td>47.25</td>\n",
              "      <td>51.95</td>\n",
              "      <td>71.17</td>\n",
              "      <td>59.27</td>\n",
              "      <td>17.85</td>\n",
              "      <td>58.91</td>\n",
              "      <td>23.99</td>\n",
              "      <td>35.32</td>\n",
              "      <td>222.84</td>\n",
              "      <td>127.09</td>\n",
              "      <td>40.48</td>\n",
              "      <td>81.95</td>\n",
              "      <td>25.91</td>\n",
              "      <td>62.58</td>\n",
              "      <td>39.62</td>\n",
              "      <td>20.41</td>\n",
              "      <td>33.82</td>\n",
              "      <td>78.71</td>\n",
              "      <td>33.13</td>\n",
              "      <td>26.97</td>\n",
              "      <td>10.69</td>\n",
              "      <td>24.55</td>\n",
              "      <td>58.89</td>\n",
              "      <td>46.50</td>\n",
              "      <td>61.88</td>\n",
              "      <td>56.19</td>\n",
              "      <td>31.27</td>\n",
              "      <td>46.32</td>\n",
              "      <td>58.57</td>\n",
              "    </tr>\n",
              "    <tr>\n",
              "      <th>2006-01-05</th>\n",
              "      <td>41.53</td>\n",
              "      <td>10.63</td>\n",
              "      <td>47.65</td>\n",
              "      <td>52.50</td>\n",
              "      <td>70.33</td>\n",
              "      <td>59.27</td>\n",
              "      <td>18.35</td>\n",
              "      <td>58.19</td>\n",
              "      <td>24.41</td>\n",
              "      <td>35.23</td>\n",
              "      <td>225.85</td>\n",
              "      <td>127.04</td>\n",
              "      <td>40.08</td>\n",
              "      <td>82.50</td>\n",
              "      <td>26.27</td>\n",
              "      <td>62.32</td>\n",
              "      <td>39.74</td>\n",
              "      <td>20.51</td>\n",
              "      <td>33.86</td>\n",
              "      <td>77.99</td>\n",
              "      <td>33.18</td>\n",
              "      <td>26.99</td>\n",
              "      <td>10.76</td>\n",
              "      <td>24.58</td>\n",
              "      <td>58.70</td>\n",
              "      <td>46.95</td>\n",
              "      <td>61.69</td>\n",
              "      <td>55.98</td>\n",
              "      <td>31.63</td>\n",
              "      <td>45.69</td>\n",
              "      <td>58.28</td>\n",
              "    </tr>\n",
              "    <tr>\n",
              "      <th>2006-01-06</th>\n",
              "      <td>43.21</td>\n",
              "      <td>10.90</td>\n",
              "      <td>47.87</td>\n",
              "      <td>52.68</td>\n",
              "      <td>69.35</td>\n",
              "      <td>60.45</td>\n",
              "      <td>18.77</td>\n",
              "      <td>59.25</td>\n",
              "      <td>24.74</td>\n",
              "      <td>35.47</td>\n",
              "      <td>233.06</td>\n",
              "      <td>128.84</td>\n",
              "      <td>40.38</td>\n",
              "      <td>84.95</td>\n",
              "      <td>26.31</td>\n",
              "      <td>62.60</td>\n",
              "      <td>40.02</td>\n",
              "      <td>20.70</td>\n",
              "      <td>34.06</td>\n",
              "      <td>78.63</td>\n",
              "      <td>33.12</td>\n",
              "      <td>26.91</td>\n",
              "      <td>10.72</td>\n",
              "      <td>24.85</td>\n",
              "      <td>58.64</td>\n",
              "      <td>47.21</td>\n",
              "      <td>62.90</td>\n",
              "      <td>56.16</td>\n",
              "      <td>31.35</td>\n",
              "      <td>45.88</td>\n",
              "      <td>59.43</td>\n",
              "    </tr>\n",
              "    <tr>\n",
              "      <th>2006-01-09</th>\n",
              "      <td>43.42</td>\n",
              "      <td>10.86</td>\n",
              "      <td>47.08</td>\n",
              "      <td>53.99</td>\n",
              "      <td>68.77</td>\n",
              "      <td>61.55</td>\n",
              "      <td>19.06</td>\n",
              "      <td>58.95</td>\n",
              "      <td>25.00</td>\n",
              "      <td>35.38</td>\n",
              "      <td>233.68</td>\n",
              "      <td>130.39</td>\n",
              "      <td>40.82</td>\n",
              "      <td>83.73</td>\n",
              "      <td>26.47</td>\n",
              "      <td>62.99</td>\n",
              "      <td>40.67</td>\n",
              "      <td>20.80</td>\n",
              "      <td>34.71</td>\n",
              "      <td>79.02</td>\n",
              "      <td>33.66</td>\n",
              "      <td>26.86</td>\n",
              "      <td>10.88</td>\n",
              "      <td>24.85</td>\n",
              "      <td>59.08</td>\n",
              "      <td>47.23</td>\n",
              "      <td>61.40</td>\n",
              "      <td>56.80</td>\n",
              "      <td>31.48</td>\n",
              "      <td>45.71</td>\n",
              "      <td>59.40</td>\n",
              "    </tr>\n",
              "  </tbody>\n",
              "</table>\n",
              "</div>"
            ],
            "text/plain": [
              "Name         AABA   AAPL   AMZN    AXP  ...    UTX     VZ    WMT    XOM\n",
              "Date                                    ...                            \n",
              "2006-01-03  40.91  10.68  47.58  52.58  ...  56.53  30.38  46.23  58.47\n",
              "2006-01-04  40.97  10.71  47.25  51.95  ...  56.19  31.27  46.32  58.57\n",
              "2006-01-05  41.53  10.63  47.65  52.50  ...  55.98  31.63  45.69  58.28\n",
              "2006-01-06  43.21  10.90  47.87  52.68  ...  56.16  31.35  45.88  59.43\n",
              "2006-01-09  43.42  10.86  47.08  53.99  ...  56.80  31.48  45.71  59.40\n",
              "\n",
              "[5 rows x 31 columns]"
            ]
          },
          "metadata": {
            "tags": []
          },
          "execution_count": 37
        }
      ]
    },
    {
      "cell_type": "code",
      "metadata": {
        "colab": {
          "base_uri": "https://localhost:8080/"
        },
        "id": "JBu6CYSt2oeL",
        "outputId": "e219a226-9e8d-41ad-a388-cdb9fed5e3cf"
      },
      "source": [
        "multi_ts.shape"
      ],
      "execution_count": 38,
      "outputs": [
        {
          "output_type": "execute_result",
          "data": {
            "text/plain": [
              "(3020, 31)"
            ]
          },
          "metadata": {
            "tags": []
          },
          "execution_count": 38
        }
      ]
    },
    {
      "cell_type": "code",
      "metadata": {
        "colab": {
          "base_uri": "https://localhost:8080/"
        },
        "id": "Mp4NkuGP6Lw8",
        "outputId": "12f3de80-b094-4f9e-8dd1-ebdc142131a2"
      },
      "source": [
        "multi_ts.isna().sum()"
      ],
      "execution_count": 39,
      "outputs": [
        {
          "output_type": "execute_result",
          "data": {
            "text/plain": [
              "Name\n",
              "AABA     1\n",
              "AAPL     1\n",
              "AMZN     1\n",
              "AXP      0\n",
              "BA       0\n",
              "CAT      0\n",
              "CSCO     1\n",
              "CVX      0\n",
              "DIS      0\n",
              "GE       0\n",
              "GOOGL    1\n",
              "GS       0\n",
              "HD       0\n",
              "IBM      0\n",
              "INTC     1\n",
              "JNJ      0\n",
              "JPM      0\n",
              "KO       0\n",
              "MCD      0\n",
              "MMM      0\n",
              "MRK      1\n",
              "MSFT     1\n",
              "NKE      0\n",
              "PFE      0\n",
              "PG       0\n",
              "TRV      0\n",
              "UNH      0\n",
              "UTX      0\n",
              "VZ       0\n",
              "WMT      0\n",
              "XOM      0\n",
              "dtype: int64"
            ]
          },
          "metadata": {
            "tags": []
          },
          "execution_count": 39
        }
      ]
    },
    {
      "cell_type": "code",
      "metadata": {
        "id": "RLqhpCct7Loy"
      },
      "source": [
        "#it will fill previous day value\n",
        "multi_ts=multi_ts.fillna(method=\"ffill\")"
      ],
      "execution_count": 40,
      "outputs": []
    },
    {
      "cell_type": "code",
      "metadata": {
        "colab": {
          "base_uri": "https://localhost:8080/"
        },
        "id": "0bE2uFG3gpO0",
        "outputId": "11b2ede0-72c6-4729-b1eb-d0b775207cf4"
      },
      "source": [
        "multi_ts.isna().sum()"
      ],
      "execution_count": 41,
      "outputs": [
        {
          "output_type": "execute_result",
          "data": {
            "text/plain": [
              "Name\n",
              "AABA     0\n",
              "AAPL     0\n",
              "AMZN     0\n",
              "AXP      0\n",
              "BA       0\n",
              "CAT      0\n",
              "CSCO     0\n",
              "CVX      0\n",
              "DIS      0\n",
              "GE       0\n",
              "GOOGL    0\n",
              "GS       0\n",
              "HD       0\n",
              "IBM      0\n",
              "INTC     0\n",
              "JNJ      0\n",
              "JPM      0\n",
              "KO       0\n",
              "MCD      0\n",
              "MMM      0\n",
              "MRK      0\n",
              "MSFT     0\n",
              "NKE      0\n",
              "PFE      0\n",
              "PG       0\n",
              "TRV      0\n",
              "UNH      0\n",
              "UTX      0\n",
              "VZ       0\n",
              "WMT      0\n",
              "XOM      0\n",
              "dtype: int64"
            ]
          },
          "metadata": {
            "tags": []
          },
          "execution_count": 41
        }
      ]
    },
    {
      "cell_type": "code",
      "metadata": {
        "id": "QOPA-Y-_gtU1"
      },
      "source": [
        "\n",
        "scaler= MinMaxScaler(feature_range=(0,1))\n",
        "multi_ts= np.array(multi_ts)"
      ],
      "execution_count": 42,
      "outputs": []
    },
    {
      "cell_type": "code",
      "metadata": {
        "colab": {
          "base_uri": "https://localhost:8080/"
        },
        "id": "0IS-G4JPhldw",
        "outputId": "9a34c695-57ec-43ea-990e-81153031a8c2"
      },
      "source": [
        "multi_ts"
      ],
      "execution_count": 43,
      "outputs": [
        {
          "output_type": "execute_result",
          "data": {
            "text/plain": [
              "array([[  40.91,   10.68,   47.58, ...,   30.38,   46.23,   58.47],\n",
              "       [  40.97,   10.71,   47.25, ...,   31.27,   46.32,   58.57],\n",
              "       [  41.53,   10.63,   47.65, ...,   31.63,   45.69,   58.28],\n",
              "       ...,\n",
              "       [  70.06,  170.6 , 1182.26, ...,   53.28,   99.26,   83.9 ],\n",
              "       [  69.82,  171.08, 1186.1 , ...,   53.43,   99.4 ,   84.02],\n",
              "       [  69.85,  169.23, 1169.47, ...,   52.93,   98.75,   83.64]])"
            ]
          },
          "metadata": {
            "tags": []
          },
          "execution_count": 43
        }
      ]
    },
    {
      "cell_type": "code",
      "metadata": {
        "id": "L9D-h1OchsbB"
      },
      "source": [
        "train_fraction= 0.90\n",
        "\n",
        "train_size = int(len(multi_ts) * train_fraction)\n",
        "test_size = len(multi_ts) - train_size\n",
        "train, test = multi_ts[0: train_size, ] ,  multi_ts[train_size: len(multi_ts), ]"
      ],
      "execution_count": 44,
      "outputs": []
    },
    {
      "cell_type": "code",
      "metadata": {
        "colab": {
          "base_uri": "https://localhost:8080/"
        },
        "id": "aJK3wf_jjUlD",
        "outputId": "1b4826a7-29fc-44fe-c483-ebe8378eaa23"
      },
      "source": [
        "train.shape"
      ],
      "execution_count": 45,
      "outputs": [
        {
          "output_type": "execute_result",
          "data": {
            "text/plain": [
              "(2718, 31)"
            ]
          },
          "metadata": {
            "tags": []
          },
          "execution_count": 45
        }
      ]
    },
    {
      "cell_type": "code",
      "metadata": {
        "colab": {
          "base_uri": "https://localhost:8080/"
        },
        "id": "rqjaB_EXjy3_",
        "outputId": "2dd4153d-8d72-4a8e-e0ff-a2bcfb79ce5a"
      },
      "source": [
        "test.shape"
      ],
      "execution_count": 46,
      "outputs": [
        {
          "output_type": "execute_result",
          "data": {
            "text/plain": [
              "(302, 31)"
            ]
          },
          "metadata": {
            "tags": []
          },
          "execution_count": 46
        }
      ]
    },
    {
      "cell_type": "code",
      "metadata": {
        "colab": {
          "base_uri": "https://localhost:8080/"
        },
        "id": "kBiOBSjDj0Hu",
        "outputId": "908990a5-bd5c-4fba-bc41-2c5b10f8890b"
      },
      "source": [
        "multi_ts.shape"
      ],
      "execution_count": 47,
      "outputs": [
        {
          "output_type": "execute_result",
          "data": {
            "text/plain": [
              "(3020, 31)"
            ]
          },
          "metadata": {
            "tags": []
          },
          "execution_count": 47
        }
      ]
    },
    {
      "cell_type": "code",
      "metadata": {
        "colab": {
          "base_uri": "https://localhost:8080/"
        },
        "id": "zoaxwC7vlQ0H",
        "outputId": "3c550874-3c14-4479-972d-2ab7d02cc1e7"
      },
      "source": [
        "scaler.fit(train)"
      ],
      "execution_count": 48,
      "outputs": [
        {
          "output_type": "execute_result",
          "data": {
            "text/plain": [
              "MinMaxScaler(copy=True, feature_range=(0, 1))"
            ]
          },
          "metadata": {
            "tags": []
          },
          "execution_count": 48
        }
      ]
    },
    {
      "cell_type": "code",
      "metadata": {
        "id": "bsX1Q6d8otWL"
      },
      "source": [
        "sd_train= scaler.transform(train)\n",
        "sd_test= scaler.transform(test)"
      ],
      "execution_count": 49,
      "outputs": []
    },
    {
      "cell_type": "code",
      "metadata": {
        "id": "6RfYqEvZpFAC"
      },
      "source": [
        "def create_dataset(dataset, window_size=1):\n",
        "  data_X, data_Y=[], []\n",
        "  for i in range (len(dataset) - window_size):\n",
        "    a=dataset[i:(i + window_size), ]\n",
        "    data_X.append(a)\n",
        "    data_Y.append(dataset[i + window_size, ])\n",
        "  return(np.array(data_X), np.array(data_Y))"
      ],
      "execution_count": 50,
      "outputs": []
    },
    {
      "cell_type": "code",
      "metadata": {
        "id": "JIm3LsF2fFju"
      },
      "source": [
        "window_size = 10\n",
        "train_X, train_Y = create_dataset(sd_train, window_size)\n",
        "test_X, test_Y = create_dataset(sd_test, window_size)"
      ],
      "execution_count": 51,
      "outputs": []
    },
    {
      "cell_type": "code",
      "metadata": {
        "colab": {
          "base_uri": "https://localhost:8080/"
        },
        "id": "Lp7UxnmggLBq",
        "outputId": "01ef53ce-a5f6-4c5a-f2bd-14fef16aad3b"
      },
      "source": [
        "train_X.shape, train_Y.shape"
      ],
      "execution_count": 52,
      "outputs": [
        {
          "output_type": "execute_result",
          "data": {
            "text/plain": [
              "((2708, 10, 31), (2708, 31))"
            ]
          },
          "metadata": {
            "tags": []
          },
          "execution_count": 52
        }
      ]
    },
    {
      "cell_type": "code",
      "metadata": {
        "colab": {
          "base_uri": "https://localhost:8080/"
        },
        "id": "VOO3-zjNgVj3",
        "outputId": "da1065fd-96fb-430a-abe1-ac322f3354c9"
      },
      "source": [
        "model= Sequential()\n",
        "model.add(LSTM(100, input_shape=(window_size, 31)))\n",
        "model.add(Dense(50))\n",
        "model.add(Dense(31))\n",
        "model.compile(loss='mean_squared_error', optimizer= 'adam')\n",
        "model.fit(train_X, train_Y,\n",
        "          epochs=100, batch_size=1, verbose=2, shuffle= False)"
      ],
      "execution_count": 53,
      "outputs": [
        {
          "output_type": "stream",
          "text": [
            "Epoch 1/100\n",
            "2708/2708 - 10s - loss: 0.0012\n",
            "Epoch 2/100\n",
            "2708/2708 - 8s - loss: 0.0016\n",
            "Epoch 3/100\n",
            "2708/2708 - 8s - loss: 0.0016\n",
            "Epoch 4/100\n",
            "2708/2708 - 9s - loss: 0.0016\n",
            "Epoch 5/100\n",
            "2708/2708 - 9s - loss: 0.0014\n",
            "Epoch 6/100\n",
            "2708/2708 - 9s - loss: 0.0012\n",
            "Epoch 7/100\n",
            "2708/2708 - 8s - loss: 0.0012\n",
            "Epoch 8/100\n",
            "2708/2708 - 9s - loss: 0.0013\n",
            "Epoch 9/100\n",
            "2708/2708 - 8s - loss: 0.0012\n",
            "Epoch 10/100\n",
            "2708/2708 - 8s - loss: 0.0012\n",
            "Epoch 11/100\n",
            "2708/2708 - 8s - loss: 0.0013\n",
            "Epoch 12/100\n",
            "2708/2708 - 8s - loss: 0.0013\n",
            "Epoch 13/100\n",
            "2708/2708 - 8s - loss: 0.0013\n",
            "Epoch 14/100\n",
            "2708/2708 - 8s - loss: 0.0012\n",
            "Epoch 15/100\n",
            "2708/2708 - 8s - loss: 0.0012\n",
            "Epoch 16/100\n",
            "2708/2708 - 8s - loss: 0.0012\n",
            "Epoch 17/100\n",
            "2708/2708 - 8s - loss: 0.0014\n",
            "Epoch 18/100\n",
            "2708/2708 - 8s - loss: 0.0012\n",
            "Epoch 19/100\n",
            "2708/2708 - 8s - loss: 0.0012\n",
            "Epoch 20/100\n",
            "2708/2708 - 9s - loss: 0.0011\n",
            "Epoch 21/100\n",
            "2708/2708 - 9s - loss: 0.0012\n",
            "Epoch 22/100\n",
            "2708/2708 - 9s - loss: 0.0012\n",
            "Epoch 23/100\n",
            "2708/2708 - 9s - loss: 0.0011\n",
            "Epoch 24/100\n",
            "2708/2708 - 8s - loss: 0.0011\n",
            "Epoch 25/100\n",
            "2708/2708 - 8s - loss: 0.0011\n",
            "Epoch 26/100\n",
            "2708/2708 - 9s - loss: 0.0011\n",
            "Epoch 27/100\n",
            "2708/2708 - 9s - loss: 0.0012\n",
            "Epoch 28/100\n",
            "2708/2708 - 9s - loss: 0.0036\n",
            "Epoch 29/100\n",
            "2708/2708 - 9s - loss: 0.0014\n",
            "Epoch 30/100\n",
            "2708/2708 - 8s - loss: 0.0013\n",
            "Epoch 31/100\n",
            "2708/2708 - 8s - loss: 0.0012\n",
            "Epoch 32/100\n",
            "2708/2708 - 8s - loss: 0.0012\n",
            "Epoch 33/100\n",
            "2708/2708 - 8s - loss: 0.0012\n",
            "Epoch 34/100\n",
            "2708/2708 - 8s - loss: 0.0011\n",
            "Epoch 35/100\n",
            "2708/2708 - 8s - loss: 0.0011\n",
            "Epoch 36/100\n",
            "2708/2708 - 8s - loss: 0.0012\n",
            "Epoch 37/100\n",
            "2708/2708 - 8s - loss: 0.0011\n",
            "Epoch 38/100\n",
            "2708/2708 - 8s - loss: 0.0011\n",
            "Epoch 39/100\n",
            "2708/2708 - 8s - loss: 0.0011\n",
            "Epoch 40/100\n",
            "2708/2708 - 8s - loss: 0.0011\n",
            "Epoch 41/100\n",
            "2708/2708 - 8s - loss: 0.0011\n",
            "Epoch 42/100\n",
            "2708/2708 - 8s - loss: 0.0012\n",
            "Epoch 43/100\n",
            "2708/2708 - 8s - loss: 0.0011\n",
            "Epoch 44/100\n",
            "2708/2708 - 8s - loss: 0.0011\n",
            "Epoch 45/100\n",
            "2708/2708 - 8s - loss: 0.0011\n",
            "Epoch 46/100\n",
            "2708/2708 - 8s - loss: 0.0011\n",
            "Epoch 47/100\n",
            "2708/2708 - 9s - loss: 0.0011\n",
            "Epoch 48/100\n",
            "2708/2708 - 8s - loss: 0.0011\n",
            "Epoch 49/100\n",
            "2708/2708 - 8s - loss: 0.0011\n",
            "Epoch 50/100\n",
            "2708/2708 - 8s - loss: 0.0011\n",
            "Epoch 51/100\n",
            "2708/2708 - 9s - loss: 0.0011\n",
            "Epoch 52/100\n",
            "2708/2708 - 8s - loss: 0.0011\n",
            "Epoch 53/100\n",
            "2708/2708 - 8s - loss: 0.0011\n",
            "Epoch 54/100\n",
            "2708/2708 - 8s - loss: 0.0011\n",
            "Epoch 55/100\n",
            "2708/2708 - 8s - loss: 0.0012\n",
            "Epoch 56/100\n",
            "2708/2708 - 8s - loss: 0.0011\n",
            "Epoch 57/100\n",
            "2708/2708 - 8s - loss: 0.0010\n",
            "Epoch 58/100\n",
            "2708/2708 - 8s - loss: 0.0010\n",
            "Epoch 59/100\n",
            "2708/2708 - 8s - loss: 0.0010\n",
            "Epoch 60/100\n",
            "2708/2708 - 8s - loss: 0.0010\n",
            "Epoch 61/100\n",
            "2708/2708 - 8s - loss: 0.0010\n",
            "Epoch 62/100\n",
            "2708/2708 - 8s - loss: 0.0010\n",
            "Epoch 63/100\n",
            "2708/2708 - 8s - loss: 0.0010\n",
            "Epoch 64/100\n",
            "2708/2708 - 8s - loss: 9.9808e-04\n",
            "Epoch 65/100\n",
            "2708/2708 - 8s - loss: 9.9944e-04\n",
            "Epoch 66/100\n",
            "2708/2708 - 8s - loss: 0.0010\n",
            "Epoch 67/100\n",
            "2708/2708 - 8s - loss: 0.0010\n",
            "Epoch 68/100\n",
            "2708/2708 - 8s - loss: 9.7585e-04\n",
            "Epoch 69/100\n",
            "2708/2708 - 8s - loss: 9.5345e-04\n",
            "Epoch 70/100\n",
            "2708/2708 - 8s - loss: 9.5974e-04\n",
            "Epoch 71/100\n",
            "2708/2708 - 8s - loss: 9.9711e-04\n",
            "Epoch 72/100\n",
            "2708/2708 - 8s - loss: 0.0011\n",
            "Epoch 73/100\n",
            "2708/2708 - 8s - loss: 0.0011\n",
            "Epoch 74/100\n",
            "2708/2708 - 8s - loss: 9.3657e-04\n",
            "Epoch 75/100\n",
            "2708/2708 - 8s - loss: 9.2339e-04\n",
            "Epoch 76/100\n",
            "2708/2708 - 8s - loss: 9.2221e-04\n",
            "Epoch 77/100\n",
            "2708/2708 - 8s - loss: 9.3517e-04\n",
            "Epoch 78/100\n",
            "2708/2708 - 8s - loss: 9.7617e-04\n",
            "Epoch 79/100\n",
            "2708/2708 - 8s - loss: 0.0010\n",
            "Epoch 80/100\n",
            "2708/2708 - 9s - loss: 9.5219e-04\n",
            "Epoch 81/100\n",
            "2708/2708 - 8s - loss: 9.3242e-04\n",
            "Epoch 82/100\n",
            "2708/2708 - 8s - loss: 9.3789e-04\n",
            "Epoch 83/100\n",
            "2708/2708 - 8s - loss: 9.4473e-04\n",
            "Epoch 84/100\n",
            "2708/2708 - 9s - loss: 9.2987e-04\n",
            "Epoch 85/100\n",
            "2708/2708 - 9s - loss: 9.3264e-04\n",
            "Epoch 86/100\n",
            "2708/2708 - 8s - loss: 9.4248e-04\n",
            "Epoch 87/100\n",
            "2708/2708 - 8s - loss: 9.6711e-04\n",
            "Epoch 88/100\n",
            "2708/2708 - 8s - loss: 9.5125e-04\n",
            "Epoch 89/100\n",
            "2708/2708 - 8s - loss: 9.3342e-04\n",
            "Epoch 90/100\n",
            "2708/2708 - 9s - loss: 9.2648e-04\n",
            "Epoch 91/100\n",
            "2708/2708 - 9s - loss: 9.1965e-04\n",
            "Epoch 92/100\n",
            "2708/2708 - 9s - loss: 9.1595e-04\n",
            "Epoch 93/100\n",
            "2708/2708 - 9s - loss: 9.2425e-04\n",
            "Epoch 94/100\n",
            "2708/2708 - 9s - loss: 9.4693e-04\n",
            "Epoch 95/100\n",
            "2708/2708 - 9s - loss: 9.3958e-04\n",
            "Epoch 96/100\n",
            "2708/2708 - 8s - loss: 9.1786e-04\n",
            "Epoch 97/100\n",
            "2708/2708 - 9s - loss: 9.1688e-04\n",
            "Epoch 98/100\n",
            "2708/2708 - 9s - loss: 9.1620e-04\n",
            "Epoch 99/100\n",
            "2708/2708 - 9s - loss: 9.1329e-04\n",
            "Epoch 100/100\n",
            "2708/2708 - 9s - loss: 9.0987e-04\n"
          ],
          "name": "stdout"
        },
        {
          "output_type": "execute_result",
          "data": {
            "text/plain": [
              "<tensorflow.python.keras.callbacks.History at 0x7fd1edd92bd0>"
            ]
          },
          "metadata": {
            "tags": []
          },
          "execution_count": 53
        }
      ]
    },
    {
      "cell_type": "code",
      "metadata": {
        "id": "JZgJcEenh8Xp",
        "colab": {
          "base_uri": "https://localhost:8080/"
        },
        "outputId": "f868a218-fe12-4932-d12b-da9ab4682835"
      },
      "source": [
        "model.summary()"
      ],
      "execution_count": 54,
      "outputs": [
        {
          "output_type": "stream",
          "text": [
            "Model: \"sequential_1\"\n",
            "_________________________________________________________________\n",
            "Layer (type)                 Output Shape              Param #   \n",
            "=================================================================\n",
            "lstm_1 (LSTM)                (None, 100)               52800     \n",
            "_________________________________________________________________\n",
            "dense_1 (Dense)              (None, 50)                5050      \n",
            "_________________________________________________________________\n",
            "dense_2 (Dense)              (None, 31)                1581      \n",
            "=================================================================\n",
            "Total params: 59,431\n",
            "Trainable params: 59,431\n",
            "Non-trainable params: 0\n",
            "_________________________________________________________________\n"
          ],
          "name": "stdout"
        }
      ]
    },
    {
      "cell_type": "code",
      "metadata": {
        "id": "ErvgVUf_rM7J"
      },
      "source": [
        "testpredict= model.predict(test_X)"
      ],
      "execution_count": 55,
      "outputs": []
    },
    {
      "cell_type": "code",
      "metadata": {
        "colab": {
          "base_uri": "https://localhost:8080/"
        },
        "id": "F3AEGEUsrNU-",
        "outputId": "3007843e-e6d7-45ea-8f0d-a5136061c79b"
      },
      "source": [
        "testpredict.shape"
      ],
      "execution_count": 56,
      "outputs": [
        {
          "output_type": "execute_result",
          "data": {
            "text/plain": [
              "(292, 31)"
            ]
          },
          "metadata": {
            "tags": []
          },
          "execution_count": 56
        }
      ]
    },
    {
      "cell_type": "code",
      "metadata": {
        "id": "S_CJ17-jrNgq"
      },
      "source": [
        "testpredict= scaler.inverse_transform(testpredict)\n",
        "test_Y= scaler.inverse_transform(test_Y)\n"
      ],
      "execution_count": 57,
      "outputs": []
    },
    {
      "cell_type": "code",
      "metadata": {
        "id": "fsoNmJXmrN5G"
      },
      "source": [
        "import math"
      ],
      "execution_count": 58,
      "outputs": []
    },
    {
      "cell_type": "code",
      "metadata": {
        "colab": {
          "base_uri": "https://localhost:8080/"
        },
        "id": "MCSL5uoTrOC-",
        "outputId": "72457655-9d6c-4cc1-fc0e-21bf40995cef"
      },
      "source": [
        "testscore= mean_absolute_error(test_Y, testpredict)\n",
        "print('Test Score : %.2f RMSE' % (testscore))"
      ],
      "execution_count": 59,
      "outputs": [
        {
          "output_type": "stream",
          "text": [
            "Test Score : 23.23 RMSE\n"
          ],
          "name": "stdout"
        }
      ]
    },
    {
      "cell_type": "code",
      "metadata": {
        "colab": {
          "base_uri": "https://localhost:8080/",
          "height": 437
        },
        "id": "APCHrakgrOMV",
        "outputId": "8257b3ca-ebc6-42b2-f68d-2c147d74a642"
      },
      "source": [
        "pd.DataFrame(testpredict)"
      ],
      "execution_count": 60,
      "outputs": [
        {
          "output_type": "execute_result",
          "data": {
            "text/html": [
              "<div>\n",
              "<style scoped>\n",
              "    .dataframe tbody tr th:only-of-type {\n",
              "        vertical-align: middle;\n",
              "    }\n",
              "\n",
              "    .dataframe tbody tr th {\n",
              "        vertical-align: top;\n",
              "    }\n",
              "\n",
              "    .dataframe thead th {\n",
              "        text-align: right;\n",
              "    }\n",
              "</style>\n",
              "<table border=\"1\" class=\"dataframe\">\n",
              "  <thead>\n",
              "    <tr style=\"text-align: right;\">\n",
              "      <th></th>\n",
              "      <th>0</th>\n",
              "      <th>1</th>\n",
              "      <th>2</th>\n",
              "      <th>3</th>\n",
              "      <th>4</th>\n",
              "      <th>5</th>\n",
              "      <th>6</th>\n",
              "      <th>7</th>\n",
              "      <th>8</th>\n",
              "      <th>9</th>\n",
              "      <th>10</th>\n",
              "      <th>11</th>\n",
              "      <th>12</th>\n",
              "      <th>13</th>\n",
              "      <th>14</th>\n",
              "      <th>15</th>\n",
              "      <th>16</th>\n",
              "      <th>17</th>\n",
              "      <th>18</th>\n",
              "      <th>19</th>\n",
              "      <th>20</th>\n",
              "      <th>21</th>\n",
              "      <th>22</th>\n",
              "      <th>23</th>\n",
              "      <th>24</th>\n",
              "      <th>25</th>\n",
              "      <th>26</th>\n",
              "      <th>27</th>\n",
              "      <th>28</th>\n",
              "      <th>29</th>\n",
              "      <th>30</th>\n",
              "    </tr>\n",
              "  </thead>\n",
              "  <tbody>\n",
              "    <tr>\n",
              "      <th>0</th>\n",
              "      <td>42.843266</td>\n",
              "      <td>113.577911</td>\n",
              "      <td>836.177917</td>\n",
              "      <td>60.422874</td>\n",
              "      <td>128.367172</td>\n",
              "      <td>86.141914</td>\n",
              "      <td>30.916975</td>\n",
              "      <td>99.674362</td>\n",
              "      <td>90.000481</td>\n",
              "      <td>28.933714</td>\n",
              "      <td>807.551147</td>\n",
              "      <td>158.748474</td>\n",
              "      <td>125.210670</td>\n",
              "      <td>154.652008</td>\n",
              "      <td>37.690620</td>\n",
              "      <td>117.792618</td>\n",
              "      <td>66.434654</td>\n",
              "      <td>41.690392</td>\n",
              "      <td>115.398163</td>\n",
              "      <td>171.882202</td>\n",
              "      <td>62.202347</td>\n",
              "      <td>57.613113</td>\n",
              "      <td>52.518963</td>\n",
              "      <td>33.033478</td>\n",
              "      <td>88.769859</td>\n",
              "      <td>113.424675</td>\n",
              "      <td>137.356339</td>\n",
              "      <td>98.377258</td>\n",
              "      <td>50.809860</td>\n",
              "      <td>69.745171</td>\n",
              "      <td>84.716446</td>\n",
              "    </tr>\n",
              "    <tr>\n",
              "      <th>1</th>\n",
              "      <td>42.781349</td>\n",
              "      <td>113.492149</td>\n",
              "      <td>837.083374</td>\n",
              "      <td>60.132656</td>\n",
              "      <td>127.990379</td>\n",
              "      <td>85.971603</td>\n",
              "      <td>30.855780</td>\n",
              "      <td>99.458900</td>\n",
              "      <td>89.850922</td>\n",
              "      <td>28.933586</td>\n",
              "      <td>807.759216</td>\n",
              "      <td>158.003906</td>\n",
              "      <td>125.269592</td>\n",
              "      <td>154.300110</td>\n",
              "      <td>37.660385</td>\n",
              "      <td>117.721535</td>\n",
              "      <td>66.284668</td>\n",
              "      <td>41.686562</td>\n",
              "      <td>115.510994</td>\n",
              "      <td>171.841202</td>\n",
              "      <td>62.079647</td>\n",
              "      <td>57.601501</td>\n",
              "      <td>52.531326</td>\n",
              "      <td>32.992165</td>\n",
              "      <td>88.716034</td>\n",
              "      <td>113.337837</td>\n",
              "      <td>137.440491</td>\n",
              "      <td>98.158134</td>\n",
              "      <td>50.796917</td>\n",
              "      <td>69.674698</td>\n",
              "      <td>84.591011</td>\n",
              "    </tr>\n",
              "    <tr>\n",
              "      <th>2</th>\n",
              "      <td>42.771667</td>\n",
              "      <td>113.458855</td>\n",
              "      <td>836.454102</td>\n",
              "      <td>60.180828</td>\n",
              "      <td>127.994499</td>\n",
              "      <td>86.007065</td>\n",
              "      <td>30.850958</td>\n",
              "      <td>99.493599</td>\n",
              "      <td>89.836136</td>\n",
              "      <td>28.924585</td>\n",
              "      <td>807.340088</td>\n",
              "      <td>158.052933</td>\n",
              "      <td>125.201134</td>\n",
              "      <td>154.379913</td>\n",
              "      <td>37.652187</td>\n",
              "      <td>117.695679</td>\n",
              "      <td>66.281921</td>\n",
              "      <td>41.685070</td>\n",
              "      <td>115.484451</td>\n",
              "      <td>171.796478</td>\n",
              "      <td>62.072178</td>\n",
              "      <td>57.580917</td>\n",
              "      <td>52.507565</td>\n",
              "      <td>32.990288</td>\n",
              "      <td>88.703407</td>\n",
              "      <td>113.311699</td>\n",
              "      <td>137.356552</td>\n",
              "      <td>98.182732</td>\n",
              "      <td>50.790081</td>\n",
              "      <td>69.681923</td>\n",
              "      <td>84.599190</td>\n",
              "    </tr>\n",
              "    <tr>\n",
              "      <th>3</th>\n",
              "      <td>42.780891</td>\n",
              "      <td>113.473427</td>\n",
              "      <td>836.001953</td>\n",
              "      <td>60.271439</td>\n",
              "      <td>128.081329</td>\n",
              "      <td>86.073837</td>\n",
              "      <td>30.862358</td>\n",
              "      <td>99.562599</td>\n",
              "      <td>89.866096</td>\n",
              "      <td>28.929871</td>\n",
              "      <td>807.141235</td>\n",
              "      <td>158.236221</td>\n",
              "      <td>125.167290</td>\n",
              "      <td>154.500336</td>\n",
              "      <td>37.658806</td>\n",
              "      <td>117.696602</td>\n",
              "      <td>66.313065</td>\n",
              "      <td>41.688446</td>\n",
              "      <td>115.458931</td>\n",
              "      <td>171.788834</td>\n",
              "      <td>62.096504</td>\n",
              "      <td>57.576847</td>\n",
              "      <td>52.498142</td>\n",
              "      <td>32.999916</td>\n",
              "      <td>88.712875</td>\n",
              "      <td>113.318718</td>\n",
              "      <td>137.312668</td>\n",
              "      <td>98.240555</td>\n",
              "      <td>50.794132</td>\n",
              "      <td>69.698349</td>\n",
              "      <td>84.631561</td>\n",
              "    </tr>\n",
              "    <tr>\n",
              "      <th>4</th>\n",
              "      <td>42.985546</td>\n",
              "      <td>113.837234</td>\n",
              "      <td>833.780029</td>\n",
              "      <td>61.268391</td>\n",
              "      <td>129.386581</td>\n",
              "      <td>86.679291</td>\n",
              "      <td>31.097727</td>\n",
              "      <td>100.296410</td>\n",
              "      <td>90.389435</td>\n",
              "      <td>28.945843</td>\n",
              "      <td>807.122009</td>\n",
              "      <td>161.054886</td>\n",
              "      <td>125.034187</td>\n",
              "      <td>155.811859</td>\n",
              "      <td>37.797100</td>\n",
              "      <td>117.908455</td>\n",
              "      <td>66.849915</td>\n",
              "      <td>41.705364</td>\n",
              "      <td>115.156815</td>\n",
              "      <td>171.951294</td>\n",
              "      <td>62.521599</td>\n",
              "      <td>57.639748</td>\n",
              "      <td>52.489384</td>\n",
              "      <td>33.132244</td>\n",
              "      <td>88.875305</td>\n",
              "      <td>113.634727</td>\n",
              "      <td>137.071838</td>\n",
              "      <td>98.965530</td>\n",
              "      <td>50.843117</td>\n",
              "      <td>69.889359</td>\n",
              "      <td>85.015045</td>\n",
              "    </tr>\n",
              "    <tr>\n",
              "      <th>...</th>\n",
              "      <td>...</td>\n",
              "      <td>...</td>\n",
              "      <td>...</td>\n",
              "      <td>...</td>\n",
              "      <td>...</td>\n",
              "      <td>...</td>\n",
              "      <td>...</td>\n",
              "      <td>...</td>\n",
              "      <td>...</td>\n",
              "      <td>...</td>\n",
              "      <td>...</td>\n",
              "      <td>...</td>\n",
              "      <td>...</td>\n",
              "      <td>...</td>\n",
              "      <td>...</td>\n",
              "      <td>...</td>\n",
              "      <td>...</td>\n",
              "      <td>...</td>\n",
              "      <td>...</td>\n",
              "      <td>...</td>\n",
              "      <td>...</td>\n",
              "      <td>...</td>\n",
              "      <td>...</td>\n",
              "      <td>...</td>\n",
              "      <td>...</td>\n",
              "      <td>...</td>\n",
              "      <td>...</td>\n",
              "      <td>...</td>\n",
              "      <td>...</td>\n",
              "      <td>...</td>\n",
              "      <td>...</td>\n",
              "    </tr>\n",
              "    <tr>\n",
              "      <th>287</th>\n",
              "      <td>43.657207</td>\n",
              "      <td>115.700081</td>\n",
              "      <td>846.711426</td>\n",
              "      <td>62.562984</td>\n",
              "      <td>132.476151</td>\n",
              "      <td>87.444344</td>\n",
              "      <td>31.841131</td>\n",
              "      <td>101.134773</td>\n",
              "      <td>92.004265</td>\n",
              "      <td>29.246185</td>\n",
              "      <td>819.355591</td>\n",
              "      <td>167.476700</td>\n",
              "      <td>126.512436</td>\n",
              "      <td>157.410767</td>\n",
              "      <td>38.434631</td>\n",
              "      <td>118.894890</td>\n",
              "      <td>68.304260</td>\n",
              "      <td>41.803158</td>\n",
              "      <td>115.370827</td>\n",
              "      <td>173.489380</td>\n",
              "      <td>63.702019</td>\n",
              "      <td>58.347977</td>\n",
              "      <td>53.156399</td>\n",
              "      <td>33.460209</td>\n",
              "      <td>89.462540</td>\n",
              "      <td>115.081444</td>\n",
              "      <td>138.649261</td>\n",
              "      <td>100.050987</td>\n",
              "      <td>51.098236</td>\n",
              "      <td>69.962173</td>\n",
              "      <td>85.484207</td>\n",
              "    </tr>\n",
              "    <tr>\n",
              "      <th>288</th>\n",
              "      <td>43.675076</td>\n",
              "      <td>115.703865</td>\n",
              "      <td>845.568665</td>\n",
              "      <td>62.757225</td>\n",
              "      <td>132.658844</td>\n",
              "      <td>87.568375</td>\n",
              "      <td>31.864698</td>\n",
              "      <td>101.276901</td>\n",
              "      <td>92.058182</td>\n",
              "      <td>29.236383</td>\n",
              "      <td>818.783508</td>\n",
              "      <td>167.886810</td>\n",
              "      <td>126.407486</td>\n",
              "      <td>157.672394</td>\n",
              "      <td>38.440159</td>\n",
              "      <td>118.897842</td>\n",
              "      <td>68.372322</td>\n",
              "      <td>41.803410</td>\n",
              "      <td>115.289742</td>\n",
              "      <td>173.458328</td>\n",
              "      <td>63.750992</td>\n",
              "      <td>58.330544</td>\n",
              "      <td>53.123383</td>\n",
              "      <td>33.477657</td>\n",
              "      <td>89.472855</td>\n",
              "      <td>115.093033</td>\n",
              "      <td>138.514374</td>\n",
              "      <td>100.182899</td>\n",
              "      <td>51.096600</td>\n",
              "      <td>70.002884</td>\n",
              "      <td>85.551147</td>\n",
              "    </tr>\n",
              "    <tr>\n",
              "      <th>289</th>\n",
              "      <td>43.710781</td>\n",
              "      <td>115.723557</td>\n",
              "      <td>843.840393</td>\n",
              "      <td>63.068680</td>\n",
              "      <td>132.969925</td>\n",
              "      <td>87.762474</td>\n",
              "      <td>31.906830</td>\n",
              "      <td>101.507965</td>\n",
              "      <td>92.157661</td>\n",
              "      <td>29.223244</td>\n",
              "      <td>817.961365</td>\n",
              "      <td>168.561493</td>\n",
              "      <td>126.256676</td>\n",
              "      <td>158.082977</td>\n",
              "      <td>38.452126</td>\n",
              "      <td>118.915779</td>\n",
              "      <td>68.488861</td>\n",
              "      <td>41.804073</td>\n",
              "      <td>115.158539</td>\n",
              "      <td>173.422928</td>\n",
              "      <td>63.839024</td>\n",
              "      <td>58.308712</td>\n",
              "      <td>53.075848</td>\n",
              "      <td>33.508888</td>\n",
              "      <td>89.497482</td>\n",
              "      <td>115.123352</td>\n",
              "      <td>138.317581</td>\n",
              "      <td>100.398720</td>\n",
              "      <td>51.097813</td>\n",
              "      <td>70.072670</td>\n",
              "      <td>85.666664</td>\n",
              "    </tr>\n",
              "    <tr>\n",
              "      <th>290</th>\n",
              "      <td>43.725456</td>\n",
              "      <td>115.731979</td>\n",
              "      <td>843.143921</td>\n",
              "      <td>63.197556</td>\n",
              "      <td>133.099243</td>\n",
              "      <td>87.843269</td>\n",
              "      <td>31.924614</td>\n",
              "      <td>101.602226</td>\n",
              "      <td>92.198738</td>\n",
              "      <td>29.217756</td>\n",
              "      <td>817.632324</td>\n",
              "      <td>168.844421</td>\n",
              "      <td>126.194740</td>\n",
              "      <td>158.252991</td>\n",
              "      <td>38.457458</td>\n",
              "      <td>118.922989</td>\n",
              "      <td>68.537910</td>\n",
              "      <td>41.804287</td>\n",
              "      <td>115.105148</td>\n",
              "      <td>173.409180</td>\n",
              "      <td>63.875416</td>\n",
              "      <td>58.300201</td>\n",
              "      <td>53.056610</td>\n",
              "      <td>33.521675</td>\n",
              "      <td>89.507172</td>\n",
              "      <td>115.136604</td>\n",
              "      <td>138.237228</td>\n",
              "      <td>100.487923</td>\n",
              "      <td>51.097855</td>\n",
              "      <td>70.100403</td>\n",
              "      <td>85.712822</td>\n",
              "    </tr>\n",
              "    <tr>\n",
              "      <th>291</th>\n",
              "      <td>43.737671</td>\n",
              "      <td>115.740135</td>\n",
              "      <td>842.616760</td>\n",
              "      <td>63.296959</td>\n",
              "      <td>133.201172</td>\n",
              "      <td>87.904915</td>\n",
              "      <td>31.938818</td>\n",
              "      <td>101.675552</td>\n",
              "      <td>92.232048</td>\n",
              "      <td>29.213863</td>\n",
              "      <td>817.388794</td>\n",
              "      <td>169.064240</td>\n",
              "      <td>126.149101</td>\n",
              "      <td>158.383011</td>\n",
              "      <td>38.461906</td>\n",
              "      <td>118.930206</td>\n",
              "      <td>68.576546</td>\n",
              "      <td>41.804493</td>\n",
              "      <td>115.063683</td>\n",
              "      <td>173.400238</td>\n",
              "      <td>63.904686</td>\n",
              "      <td>58.294304</td>\n",
              "      <td>53.042385</td>\n",
              "      <td>33.531967</td>\n",
              "      <td>89.515724</td>\n",
              "      <td>115.148178</td>\n",
              "      <td>138.177521</td>\n",
              "      <td>100.557259</td>\n",
              "      <td>51.098442</td>\n",
              "      <td>70.122513</td>\n",
              "      <td>85.749687</td>\n",
              "    </tr>\n",
              "  </tbody>\n",
              "</table>\n",
              "<p>292 rows × 31 columns</p>\n",
              "</div>"
            ],
            "text/plain": [
              "            0           1           2   ...         28         29         30\n",
              "0    42.843266  113.577911  836.177917  ...  50.809860  69.745171  84.716446\n",
              "1    42.781349  113.492149  837.083374  ...  50.796917  69.674698  84.591011\n",
              "2    42.771667  113.458855  836.454102  ...  50.790081  69.681923  84.599190\n",
              "3    42.780891  113.473427  836.001953  ...  50.794132  69.698349  84.631561\n",
              "4    42.985546  113.837234  833.780029  ...  50.843117  69.889359  85.015045\n",
              "..         ...         ...         ...  ...        ...        ...        ...\n",
              "287  43.657207  115.700081  846.711426  ...  51.098236  69.962173  85.484207\n",
              "288  43.675076  115.703865  845.568665  ...  51.096600  70.002884  85.551147\n",
              "289  43.710781  115.723557  843.840393  ...  51.097813  70.072670  85.666664\n",
              "290  43.725456  115.731979  843.143921  ...  51.097855  70.100403  85.712822\n",
              "291  43.737671  115.740135  842.616760  ...  51.098442  70.122513  85.749687\n",
              "\n",
              "[292 rows x 31 columns]"
            ]
          },
          "metadata": {
            "tags": []
          },
          "execution_count": 60
        }
      ]
    },
    {
      "cell_type": "code",
      "metadata": {
        "id": "6QIZfxYIs1Km"
      },
      "source": [
        "original= np.concatenate([train[:,0], test[: len (testpredict), 0]])\n",
        "predicted= np.concatenate([train[:,0], testpredict[:,0]])"
      ],
      "execution_count": 61,
      "outputs": []
    },
    {
      "cell_type": "code",
      "metadata": {
        "id": "5nBoJtnss1WU"
      },
      "source": [
        "d= pd.DataFrame({'Original': original, 'fitted': predicted, 'index': range(len(original))})"
      ],
      "execution_count": 62,
      "outputs": []
    },
    {
      "cell_type": "code",
      "metadata": {
        "colab": {
          "base_uri": "https://localhost:8080/",
          "height": 296
        },
        "id": "M-P_urvKs1f1",
        "outputId": "ad931b8c-4573-4a48-a268-e188e4671a03"
      },
      "source": [
        "sns.lineplot(data=d, x='index', y='Original')\n",
        "sns.lineplot(data=d, x='index', y='fitted')"
      ],
      "execution_count": 63,
      "outputs": [
        {
          "output_type": "execute_result",
          "data": {
            "text/plain": [
              "<matplotlib.axes._subplots.AxesSubplot at 0x7fd1e89cdc90>"
            ]
          },
          "metadata": {
            "tags": []
          },
          "execution_count": 63
        },
        {
          "output_type": "display_data",
          "data": {
            "image/png": "[encoded data removed]",
            "text/plain": [
              "<Figure size 432x288 with 1 Axes>"
            ]
          },
          "metadata": {
            "tags": [],
            "needs_background": "light"
          }
        }
      ]
    },
    {
      "cell_type": "code",
      "metadata": {
        "id": "4yz6W_I-s1pY"
      },
      "source": [
        ""
      ],
      "execution_count": null,
      "outputs": []
    }
  ]
}